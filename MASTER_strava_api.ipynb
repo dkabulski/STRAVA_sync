{
  "nbformat": 4,
  "nbformat_minor": 0,
  "metadata": {
    "colab": {
      "name": "MASTER strava_api.ipynb",
      "provenance": []
    },
    "kernelspec": {
      "name": "python3",
      "display_name": "Python 3"
    }
  },
  "cells": [
    {
      "cell_type": "markdown",
      "metadata": {
        "id": "fVQ5M5uhrT_R"
      },
      "source": [
        "# CONNECT GOOGLE DRIVE AND SAVE DATAFRAME & RESPONSES"
      ]
    },
    {
      "cell_type": "code",
      "metadata": {
        "id": "ug7_CHL8MqES"
      },
      "source": [
        "import pandas as pd\n",
        "import time\n",
        "\n",
        "pd.set_option('display.max_rows', 500)\n",
        "pd.set_option('display.max_columns', 500)\n",
        "pd.set_option('display.width', 1000)"
      ],
      "execution_count": 1,
      "outputs": []
    },
    {
      "cell_type": "code",
      "metadata": {
        "id": "BhLR5CFilzVO",
        "colab": {
          "base_uri": "https://localhost:8080/"
        },
        "outputId": "fc3ca78e-c99f-427b-b4dd-9f96b7c0797f"
      },
      "source": [
        "# Mount Google Drive. Once mounted will work as mounted Data Lake / local dir\n",
        "# can also run drive.flush_and_unmount()\n",
        "# if it fails just restart the runtime\n",
        "from google.colab import drive\n",
        "drive.mount(\"/content/drive\", force_remount=True)\n",
        "\n",
        "#%ls\n",
        "#%mkdir strava_outputs"
      ],
      "execution_count": 2,
      "outputs": [
        {
          "output_type": "stream",
          "text": [
            "Mounted at /content/drive\n"
          ],
          "name": "stdout"
        }
      ]
    },
    {
      "cell_type": "code",
      "metadata": {
        "id": "j2TaSUK_MmZ0"
      },
      "source": [
        "# go to strava_outputs directory where we'll be saving all results in raw .json format\n",
        "%cd /content/drive/My\\ Drive/python_workbooks/strava_outputs\n"
      ],
      "execution_count": null,
      "outputs": []
    },
    {
      "cell_type": "markdown",
      "metadata": {
        "id": "9ILz9IqkjQ69"
      },
      "source": [
        "# KEYS READ"
      ]
    },
    {
      "cell_type": "markdown",
      "metadata": {
        "id": "pS_zDaOj38Ho"
      },
      "source": [
        ""
      ]
    },
    {
      "cell_type": "code",
      "metadata": {
        "id": "-zKyTymOwUY9"
      },
      "source": [
        "# move this to secrets store\n",
        "STRAVA_CLIENT_ID = 123456\n",
        "STRAVA_CLIENT_SECRET = 'secret_here'\n",
        "STRAVA_ACCESS_TOKEN = 'access_token_here'\n",
        "STRAVA_REFRESH_TOKEN = 'refresh_token_here'\n"
      ],
      "execution_count": 39,
      "outputs": []
    },
    {
      "cell_type": "markdown",
      "metadata": {
        "id": "EZurVq5v-w7R"
      },
      "source": [
        "# STRAVA ACTIVITY READ classic manual method"
      ]
    },
    {
      "cell_type": "code",
      "metadata": {
        "id": "tQXSTCu34014"
      },
      "source": [
        "import gspread\n",
        "from oauth2client.service_account import ServiceAccountCredentials\n",
        "\n",
        "%cd /content/drive/My\\ Drive/python_workbooks\n",
        "\n",
        "# use creds to create a client to interact with the Google Drive API\n",
        "#scope = ['https://spreadsheets.google.com/feeds']\n",
        "scope = ['https://spreadsheets.google.com/feeds' + ' ' +'https://www.googleapis.com/auth/drive']\n",
        "credentials = ServiceAccountCredentials.from_json_keyfile_name('client_secret.json', scope)\n",
        "gc = gspread.authorize(credentials)\n",
        "\n"
      ],
      "execution_count": null,
      "outputs": []
    },
    {
      "cell_type": "markdown",
      "metadata": {
        "id": "ofIsZB-bwfEO"
      },
      "source": [
        "#Strava Authentication. Two steps:\n",
        "> * Use Strava oauth where you obtain authentication code\n",
        "> * Run requests.post using obtained code to get access token & refresh token\n",
        "\n",
        "\n",
        "What exactly is happening using the code below can be also done manually by running launching oauth to obtain code, then exchange that code for an access token in the links below:\n",
        "\n",
        "1. first get a code by pasting below address to your browser & authorise. Replace your client id here\n",
        "https://www.strava.com/oauth/authorize?client_id=[your_client_id]&redirect_uri=http://localhost&response_type=code&scope=activity:read_all\n",
        "\n",
        "2. Above should give you code\n",
        "\n",
        "3. Use the code above in running a POST request to give you access token (token that expires).\n",
        "Update client_id, client_secret(from your strava api settings page) and paste code above\n",
        "https://www.strava.com/oauth/token?client_id=[your_client_id]&client_secret=[your_client_secret]&code=[your_code_here]&grant_type=authorization_code\n",
        "\n",
        "4. Above returns access token\n",
        "access_token = [access_token]\n",
        "\n",
        "5. Using the access token now you can call different strava endpoints:\n",
        "https://www.strava.com/api/v3/athlete/activities?access_token=[access_token]\n"
      ]
    },
    {
      "cell_type": "code",
      "metadata": {
        "id": "8PNIaFDmxqMF"
      },
      "source": [
        "import requests\n",
        "import json\n",
        "import urllib\n",
        "from requests_oauthlib import OAuth2Session\n",
        "base_url = \"https://www.strava.com/oauth/authorize?\"\n",
        "known_response = requests.get(base_url)\n",
        "redirect_uri = \"http://localhost/exchange_token\"\n",
        "\n",
        "\n",
        "\n",
        "strava_scope = 'read,read_all,activity:read,activity:read_all,profile:read_all'\n",
        "strava_scope = 'read,read_all,activity:read'\n",
        "oauth2_session = OAuth2Session(STRAVA_CLIENT_ID,  redirect_uri=redirect_uri, scope=strava_scope)\n",
        "authorization_request, state = oauth2_session.authorization_url(base_url)#,STATE)\n",
        "print(\"Click on the following link to present the user with sign in form where they authenticate and approve access to your application.\")\n",
        "print(authorization_request) "
      ],
      "execution_count": null,
      "outputs": []
    },
    {
      "cell_type": "code",
      "metadata": {
        "id": "vjddNP6sJ7vv"
      },
      "source": [
        "code = 'paste_here_received_code'"
      ],
      "execution_count": 7,
      "outputs": []
    },
    {
      "cell_type": "code",
      "metadata": {
        "id": "hyJIQMxVwhg8"
      },
      "source": [
        "import requests\n",
        "from datetime import datetime\n",
        "\n",
        "import urllib3\n",
        "urllib3.disable_warnings()\n",
        "\n",
        "\n",
        "auth_url =\"https://www.strava.com/oauth/token\"\n",
        "payload = {\n",
        "    'client_id' : STRAVA_CLIENT_ID,\n",
        "    'client_secret' : STRAVA_CLIENT_SECRET,\n",
        "    #'refresh_token' : STRAVA_REFRESH_TOKEN,\n",
        "    'code': code,\n",
        "    #'grant_type' : \"refresh_token\",\n",
        "    'grant_type': 'authorization_code'\n",
        "    #'scope': 'read,read_all,activity:read,activity:read_all,profile:read_all',\n",
        "    #'f':'json'\n",
        "}\n",
        "print(\"Requesting the token...\\n\")\n",
        "res = requests.post(auth_url,data=payload,verify=False)\n",
        "#print(res.json())\n",
        "\n",
        "access_token = res.json()['access_token']\n",
        "expiry_ts = res.json()['expires_at']\n",
        "print(\"New token will expire at: \",end='\\t')\n",
        "print(datetime.utcfromtimestamp(expiry_ts).strftime('%Y-%m-%d %H:%M:%S'))\n",
        "print(access_token)\n",
        "\n",
        "\n",
        "############\n",
        "activites_url = \"https://www.strava.com/api/v3/athlete/activities\"\n",
        "activites_url = \"https://www.strava.com/api/v3/athlete\"\n",
        "\n",
        "header = {'Authorization': 'Bearer ' + access_token}\n",
        "param = {'per_page': 200, 'page': 1}\n",
        "\n",
        "my_dataset = requests.get(activites_url, headers=header, params=param).json()\n",
        "print(\"Authenticated Athleete: \",my_dataset['username'])"
      ],
      "execution_count": null,
      "outputs": []
    },
    {
      "cell_type": "code",
      "metadata": {
        "id": "_4cW9c-z1pgZ"
      },
      "source": [
        "import requests\n",
        "import json\n",
        "\n",
        "url = 'https://www.strava.com/api/v3/athlete/activities'\n",
        "\n",
        "#with 100 activities per page you need to calculate how many requests to make. Divide activities you've made by 100\n",
        "starting_page = 1\n",
        "limit = 35\n",
        "\n",
        "output_list = []\n",
        "params = {'access_token': access_token, 'per_page': 100, 'page': 1}\n",
        "for i in range(starting_page, limit):\n",
        "  params['page'] = i\n",
        "\n",
        "  r = requests.get(url, params = params)\n",
        "  print(\"Reading page \",params['page'],\" out of \",limit,\"finished with \",str(r),\" code\")\n",
        "  data = r.json()\n",
        "\n",
        "  # save outputs to drive as json file\n",
        "  filename = \"activities_\"+str(params['page'])+\"_25\"+\".json\"\n",
        "  with open(filename, 'w') as f:\n",
        "    f.write(json.dumps(data))\n",
        "\n",
        "  output_list.append(data)"
      ],
      "execution_count": null,
      "outputs": []
    },
    {
      "cell_type": "code",
      "metadata": {
        "id": "idCYt94M1yvg"
      },
      "source": [
        "actlist = []\n",
        "for page in output_list:\n",
        "  for item in page:\n",
        "    actdict = {}\n",
        "    actdict['type'] = item['type']\n",
        "    actdict['moving_time'] = item['moving_time']\n",
        "    actdict['TIME'] = time.strftime('%H:%M:%S', time.gmtime(item['moving_time']))\n",
        "    actdict['start_date_local'] = item['start_date_local']\n",
        "    actdict['name'] = item['name']\n",
        "    actdict['distance'] = item['distance']\n",
        "    actdict['gear_id'] = item['gear_id']\n",
        "    actdict['total_elevation_gain'] = item['total_elevation_gain']\n",
        "    actdict['kudos_count'] = item['kudos_count']\n",
        "    actdict['suffer_score'] = item['suffer_score']\n",
        "    actdict['pr_count'] = item['pr_count']\n",
        "    actdict['start_latlng'] = item['start_latlng']\n",
        "    actdict['end_latlng'] = item['end_latlng']\n",
        "    actdict['start_latlng'] = item['start_latlng']\n",
        "    #if 'summary_polyline' in item:\n",
        "    #  actdict['summary_polyline'] = item['summary_polyline']\n",
        "    #else:\n",
        "    #  actdict['summary_polyline'] = None\n",
        "    actlist.append(actdict)\n",
        "\n",
        "actDF = pd.DataFrame(actlist)\n",
        "print(actDF.shape)\n",
        "actDF.head(10)"
      ],
      "execution_count": null,
      "outputs": []
    },
    {
      "cell_type": "markdown",
      "metadata": {
        "id": "_YLbAQaB7dCp"
      },
      "source": [
        "# Visualisation"
      ]
    },
    {
      "cell_type": "code",
      "metadata": {
        "id": "sCzL4Q_T7i_F"
      },
      "source": [
        "actDF['date_day'] = pd.to_datetime(actDF['start_date_local'],utc=True)\n",
        "actDF['hour'] = actDF['date_day'].dt.hour\n",
        "actDF.groupby(['type']).count()\n",
        "\n"
      ],
      "execution_count": null,
      "outputs": []
    },
    {
      "cell_type": "code",
      "metadata": {
        "id": "SynfZ8Xq-EDC"
      },
      "source": [
        "num_activities = 1399\n",
        "actRUN = actDF[actDF['type']=='Run']\n",
        "run_hours = actRUN.groupby(['hour']).count().reset_index()\n",
        "run_hours['count%'] = run_hours['type']/num_activities"
      ],
      "execution_count": 36,
      "outputs": []
    },
    {
      "cell_type": "code",
      "metadata": {
        "id": "sNd_04FT7zGr"
      },
      "source": [
        "run_hours.head(5)"
      ],
      "execution_count": null,
      "outputs": []
    },
    {
      "cell_type": "code",
      "metadata": {
        "id": "L6A1JrWS8cQe"
      },
      "source": [
        "run_hours.head(5)"
      ],
      "execution_count": 25,
      "outputs": []
    },
    {
      "cell_type": "code",
      "metadata": {
        "id": "xlfOASma9e4F"
      },
      "source": [
        "import matplotlib.pyplot as plt; plt.rcdefaults()\n",
        "import numpy as np\n",
        "import matplotlib.pyplot as plt"
      ],
      "execution_count": 31,
      "outputs": []
    },
    {
      "cell_type": "code",
      "metadata": {
        "id": "uQKLM-JR89AM"
      },
      "source": [
        "run_hours.plot.bar(x='hour', y='count%', rot=0, title=\"running activity start hour\")"
      ],
      "execution_count": null,
      "outputs": []
    },
    {
      "cell_type": "markdown",
      "metadata": {
        "id": "8xi786DBN92o"
      },
      "source": [
        "# Load data into googlesheet\n",
        "https://console.developers.google.com/?pli=1"
      ]
    },
    {
      "cell_type": "code",
      "metadata": {
        "id": "LnD5XHj1OE45"
      },
      "source": [
        "#%pip install df2gspread\n",
        "\n",
        "import gspread\n",
        "from oauth2client.service_account import ServiceAccountCredentials\n",
        "\n",
        "%cd /content/drive/My\\ Drive/python_workbooks\n",
        "\n",
        "# use creds to create a client to interact with the Google Drive API\n",
        "#scope = ['https://spreadsheets.google.com/feeds']\n",
        "scope = ['https://spreadsheets.google.com/feeds' + ' ' +'https://www.googleapis.com/auth/drive']\n",
        "credentials = ServiceAccountCredentials.from_json_keyfile_name('client_secret.json', scope)\n",
        "gc = gspread.authorize(credentials)\n",
        "\n",
        "\n",
        "# Find a workbook by name and open the first sheet\n",
        "# Make sure you use the right name here.\n",
        "#sheet = gc.open(\"daily run results\").sheet\n"
      ],
      "execution_count": null,
      "outputs": []
    },
    {
      "cell_type": "code",
      "metadata": {
        "id": "X3wZSYsUI5fG"
      },
      "source": [
        "spreadsheet = gc.open(\"daily run results\")\n",
        "#this assumes that first sheet is the STRAVA_TEST sheet, if it doesn't exist it will create it\n",
        "try:\n",
        "  worksheet = spreadsheet.add_worksheet(title=\"STRAVA_TEST\", rows=\"10000\", cols=\"20\")\n",
        "except:\n",
        "  worksheet = spreadsheet.get_worksheet(0)"
      ],
      "execution_count": 42,
      "outputs": []
    },
    {
      "cell_type": "code",
      "metadata": {
        "id": "OMFhieyNP-sL"
      },
      "source": [
        "sheet_meta = spreadsheet.fetch_sheet_metadata()"
      ],
      "execution_count": 43,
      "outputs": []
    },
    {
      "cell_type": "code",
      "metadata": {
        "colab": {
          "base_uri": "https://localhost:8080/"
        },
        "id": "p3zeZJglQQde",
        "outputId": "b9ae752f-a379-4d1b-81b3-6ea3b4691da8"
      },
      "source": [
        "#some useful stuff on going through spreadsheets (gspread library)\n",
        "\"\"\"\n",
        "sheet_meta.keys()\n",
        "list_of_sheets = []\n",
        "for k in sheet_meta['sheets']:\n",
        "  #print(k)\n",
        "  sheetdict = {}\n",
        "  for k,v in k['properties'].items():\n",
        "    #print(sheet)\n",
        "    sheetdict[k] = v\n",
        "  list_of_sheets.append(sheetdict)\n",
        "    #print(k)\n",
        "\"\"\""
      ],
      "execution_count": 44,
      "outputs": [
        {
          "output_type": "execute_result",
          "data": {
            "text/plain": [
              "dict_keys(['spreadsheetId', 'properties', 'sheets', 'spreadsheetUrl'])"
            ]
          },
          "metadata": {
            "tags": []
          },
          "execution_count": 44
        }
      ]
    },
    {
      "cell_type": "code",
      "metadata": {
        "id": "s5jMM7mBPYnN"
      },
      "source": [
        "\n",
        "import gspread\n",
        "from gspread_dataframe import set_with_dataframe\n",
        "\n",
        "# APPEND DATA TO SHEET\n",
        "#sheet = select_worksheet('worksheet key here',1)\n",
        "set_with_dataframe(worksheet, actDF) #-> THIS EXPORTS YOUR DATAFRAME TO THE GOOGLE SHEET"
      ],
      "execution_count": 45,
      "outputs": []
    },
    {
      "cell_type": "code",
      "metadata": {
        "id": "58a5_y51IsIR"
      },
      "source": [
        "\"\"\"\n",
        "# development - reading clubs data\n",
        "starting_page = 1\n",
        "limit = 10\n",
        "\n",
        "output_list = []\n",
        "params = {'per_page': 100, 'page': 1}\n",
        "for i in range(starting_page, limit):\n",
        "  params['page'] = i\n",
        "\n",
        "  url = \"https://www.strava.com/api/v3/clubs/554103/activities?access_token=826f7afa7a0db197aa3a82fb5632392a62dae807\"\n",
        "  r = requests.get(url,headers=header, params = params)\n",
        "  data = r.json()\n",
        "  output_list.append(data)\n",
        "\n",
        "print(len(output_list))\n",
        "output_list[0]\n",
        "\"\"\""
      ],
      "execution_count": null,
      "outputs": []
    }
  ]
}